{
 "cells": [
  {
   "cell_type": "markdown",
   "metadata": {},
   "source": [
    "# Ensemble Learning"
   ]
  },
  {
   "cell_type": "markdown",
   "metadata": {},
   "source": [
    "**Ensemble learning** is a machine learning paradigm where multiple models (often called **weak learners**) are trained to solve\n",
    "the same problem and **combined** to get better results. \n",
    "\n",
    "the idea of **ensemble methods** is to try **reducing bias and/or variance** of such weak learners by combining several of them together in order to create a **strong learner** (or **ensemble model**) that achieves better performances."
   ]
  },
  {
   "cell_type": "markdown",
   "metadata": {},
   "source": [
    "## Index"
   ]
  },
  {
   "cell_type": "markdown",
   "metadata": {},
   "source": [
    "1. [Data](#1_Data)\n",
    "   \n",
    "      - Import Libraries\n",
    "      - Best Models\n",
    "      - Target\n",
    "      - Dataset\n",
    "\n",
    "\n",
    "2. [Features_Best_Models](#2_Features_Best_Models)\n",
    "    \n",
    "   2.1 [SVM](#2.1_Support_Vector_Machine(SVC)) \n",
    "   \n",
    "   2.1 [MLPC](#2.2_Neural_Network(MLPC))\n",
    "     \n",
    "\n",
    "3. [Functions](#2_Functions)\n",
    "    \n",
    "   3.1 [Train_Test_Split](#3.1_Train_Test_Split)\n",
    "   \n",
    "   3.2 [Unbalanced_Data](#3.2_Imbalanced_Data)\n",
    "   \n",
    "   3.3 [Grid_Search](#3.3_Grid_Search)\n",
    "   \n",
    "   3.4 [Stacking](#3.3_Staking)\n",
    "      \n",
    "   3.5 [Evaluation_Test_Function](#3.4_Evaluation_Test_Function)\n",
    "   \n",
    "   3.6 [Confusion_Matrix](#3.5_Confusion_Matrix)  \n",
    "\n",
    "\n",
    "4. [Imbalanced_Data](#4_Imbalanced_Data)\n",
    "\n",
    "5. [XGBoost](#5_XGBoost)\n",
    "\n",
    "6. [Stacking](#3_Stacking)\n",
    "   \n",
    "   6.1 [Meta-Model:MLPC](#6.1_Meta-Model:MLPC)\n",
    "      - Train/Test (90/10)\n",
    "      - Grid Search\n",
    "      - Model \n",
    "      - Accuracy\n",
    "      - Classification report\n",
    "\n",
    "   6.2 [Meta-Model:SVC](#6.2_Meta-Model:SVC)\n",
    "      - Train/Test (90/10)\n",
    "      - Grid Search\n",
    "      - Model \n",
    "      - Accuracy\n",
    "      - Classification report\n",
    "      \n",
    "   6.3 [Conclusions](#6.3_Conclusions)\n",
    "   \n",
    "7. [Conclusions](#7_Conclusions)"
   ]
  },
  {
   "cell_type": "markdown",
   "metadata": {},
   "source": [
    "______"
   ]
  },
  {
   "cell_type": "markdown",
   "metadata": {},
   "source": [
    "### 1_Data"
   ]
  },
  {
   "cell_type": "markdown",
   "metadata": {},
   "source": [
    "#### Import Libraries"
   ]
  },
  {
   "cell_type": "code",
   "execution_count": 1,
   "metadata": {},
   "outputs": [],
   "source": [
    "# Pandas and Numpy\n",
    "import pandas as pd\n",
    "import numpy as np\n",
    "\n",
    "# Visualization\n",
    "import matplotlib.pyplot as plt\n",
    "import seaborn as sns\n",
    "plt.rcParams[\"figure.figsize\"] = (8,6)\n",
    "\n",
    "# Umbalance Data Viz\n",
    "from sklearn.manifold import TSNE\n",
    "\n",
    "# Umbalance Data\n",
    "from collections import Counter\n",
    "# Under/Over-sampling\n",
    "from imblearn.combine import SMOTETomek\n",
    "\n",
    "# Train/Test\n",
    "from sklearn.model_selection import train_test_split\n",
    "\n",
    "# Support Vector Machines\n",
    "from sklearn.svm import SVC\n",
    "\n",
    "# Neural Network (Multilayer Perceptron)\n",
    "from sklearn.neural_network import MLPClassifier\n",
    "\n",
    "# Grid search\n",
    "from sklearn.model_selection import RandomizedSearchCV, GridSearchCV\n",
    "import math\n",
    "\n",
    "# Evaluation\n",
    "from sklearn.metrics import confusion_matrix\n",
    "from sklearn.metrics import classification_report, make_scorer, accuracy_score, recall_score, precision_score, f1_score\n",
    "from sklearn import metrics\n",
    "\n",
    "# Cross Validation\n",
    "from sklearn.model_selection import cross_val_score\n",
    "from sklearn.model_selection import StratifiedKFold"
   ]
  },
  {
   "cell_type": "code",
   "execution_count": 2,
   "metadata": {},
   "outputs": [],
   "source": [
    "# Stacking\n",
    "from sklearn.ensemble import StackingClassifier\n",
    "\n",
    "# Gradient Boosting\n",
    "from sklearn.ensemble import GradientBoostingClassifier\n",
    "from xgboost import XGBClassifier"
   ]
  },
  {
   "cell_type": "code",
   "execution_count": 3,
   "metadata": {},
   "outputs": [],
   "source": [
    "try:\n",
    "    from xgboost import XGBClassifier\n",
    "except:\n",
    "    from sklearn.ensemble import GradientBoostingClassifier as XGBClassifier"
   ]
  },
  {
   "cell_type": "markdown",
   "metadata": {},
   "source": [
    "#### Target"
   ]
  },
  {
   "cell_type": "markdown",
   "metadata": {},
   "source": [
    "**Predict customers who want to leave the bank**\n",
    "\n",
    "In this project we will use the **recall** as evaluation parameter because in our case the **cost of a false negative** (not being able to predict the people who \n",
    "left the bank) is **high**.\n",
    "\n",
    "$$recall = \\frac{True Churn(T1)}{True Churn(T1)+False Not Churn(F0)}$$"
   ]
  },
  {
   "cell_type": "markdown",
   "metadata": {},
   "source": [
    "From the previous analysis, we know that:"
   ]
  },
  {
   "cell_type": "markdown",
   "metadata": {},
   "source": [
    "#### Models"
   ]
  },
  {
   "cell_type": "markdown",
   "metadata": {},
   "source": [
    "The models that give us **better results** in terms of **recall** for **Exited Clients** are: \n",
    "\n",
    " - **SVC** (Support Vector Machine) _ notebook: `MODEL_SVM` --> recall: **89%**\n",
    "    \n",
    " - **MLPC** (Multilayer Perceptron)  _ notebook: `ML_MLPC` --> recall: **82%**"
   ]
  },
  {
   "cell_type": "markdown",
   "metadata": {},
   "source": [
    "#### Dataset"
   ]
  },
  {
   "cell_type": "markdown",
   "metadata": {},
   "source": [
    "These models give us better results with the **Normalized Dataset** including **LDA** (Linear Discriminant Analysis) - notebook: `PCA and LDA` - with **Balanced Data**."
   ]
  },
  {
   "cell_type": "code",
   "execution_count": 4,
   "metadata": {},
   "outputs": [
    {
     "data": {
      "text/html": [
       "<div>\n",
       "<style scoped>\n",
       "    .dataframe tbody tr th:only-of-type {\n",
       "        vertical-align: middle;\n",
       "    }\n",
       "\n",
       "    .dataframe tbody tr th {\n",
       "        vertical-align: top;\n",
       "    }\n",
       "\n",
       "    .dataframe thead th {\n",
       "        text-align: right;\n",
       "    }\n",
       "</style>\n",
       "<table border=\"1\" class=\"dataframe\">\n",
       "  <thead>\n",
       "    <tr style=\"text-align: right;\">\n",
       "      <th></th>\n",
       "      <th>CreditScore</th>\n",
       "      <th>Age</th>\n",
       "      <th>Tenure</th>\n",
       "      <th>Balance</th>\n",
       "      <th>NumOfProducts</th>\n",
       "      <th>HasCrCard</th>\n",
       "      <th>IsActiveMember</th>\n",
       "      <th>EstimatedSalary</th>\n",
       "      <th>Exited</th>\n",
       "      <th>Gender_Int</th>\n",
       "      <th>Geography_Germany</th>\n",
       "      <th>Geography_Spain</th>\n",
       "      <th>Balance_Int</th>\n",
       "      <th>PC1</th>\n",
       "    </tr>\n",
       "  </thead>\n",
       "  <tbody>\n",
       "    <tr>\n",
       "      <td>0</td>\n",
       "      <td>0.538</td>\n",
       "      <td>0.324324</td>\n",
       "      <td>0.2</td>\n",
       "      <td>0.000000</td>\n",
       "      <td>0.000000</td>\n",
       "      <td>1.0</td>\n",
       "      <td>1.0</td>\n",
       "      <td>0.506735</td>\n",
       "      <td>1.0</td>\n",
       "      <td>1.0</td>\n",
       "      <td>0.0</td>\n",
       "      <td>0.0</td>\n",
       "      <td>0.0</td>\n",
       "      <td>-0.244017</td>\n",
       "    </tr>\n",
       "    <tr>\n",
       "      <td>1</td>\n",
       "      <td>0.516</td>\n",
       "      <td>0.310811</td>\n",
       "      <td>0.1</td>\n",
       "      <td>0.334031</td>\n",
       "      <td>0.000000</td>\n",
       "      <td>0.0</td>\n",
       "      <td>1.0</td>\n",
       "      <td>0.562709</td>\n",
       "      <td>0.0</td>\n",
       "      <td>1.0</td>\n",
       "      <td>0.0</td>\n",
       "      <td>1.0</td>\n",
       "      <td>1.0</td>\n",
       "      <td>-0.036741</td>\n",
       "    </tr>\n",
       "    <tr>\n",
       "      <td>2</td>\n",
       "      <td>0.304</td>\n",
       "      <td>0.324324</td>\n",
       "      <td>0.8</td>\n",
       "      <td>0.636357</td>\n",
       "      <td>0.666667</td>\n",
       "      <td>1.0</td>\n",
       "      <td>0.0</td>\n",
       "      <td>0.569654</td>\n",
       "      <td>1.0</td>\n",
       "      <td>1.0</td>\n",
       "      <td>0.0</td>\n",
       "      <td>0.0</td>\n",
       "      <td>1.0</td>\n",
       "      <td>0.868267</td>\n",
       "    </tr>\n",
       "    <tr>\n",
       "      <td>3</td>\n",
       "      <td>0.698</td>\n",
       "      <td>0.283784</td>\n",
       "      <td>0.1</td>\n",
       "      <td>0.000000</td>\n",
       "      <td>0.333333</td>\n",
       "      <td>0.0</td>\n",
       "      <td>0.0</td>\n",
       "      <td>0.469120</td>\n",
       "      <td>0.0</td>\n",
       "      <td>1.0</td>\n",
       "      <td>0.0</td>\n",
       "      <td>0.0</td>\n",
       "      <td>0.0</td>\n",
       "      <td>0.388012</td>\n",
       "    </tr>\n",
       "    <tr>\n",
       "      <td>4</td>\n",
       "      <td>1.000</td>\n",
       "      <td>0.337838</td>\n",
       "      <td>0.2</td>\n",
       "      <td>0.500246</td>\n",
       "      <td>0.000000</td>\n",
       "      <td>1.0</td>\n",
       "      <td>1.0</td>\n",
       "      <td>0.395400</td>\n",
       "      <td>0.0</td>\n",
       "      <td>1.0</td>\n",
       "      <td>0.0</td>\n",
       "      <td>1.0</td>\n",
       "      <td>1.0</td>\n",
       "      <td>-0.021615</td>\n",
       "    </tr>\n",
       "  </tbody>\n",
       "</table>\n",
       "</div>"
      ],
      "text/plain": [
       "   CreditScore       Age  Tenure   Balance  NumOfProducts  HasCrCard  \\\n",
       "0        0.538  0.324324     0.2  0.000000       0.000000        1.0   \n",
       "1        0.516  0.310811     0.1  0.334031       0.000000        0.0   \n",
       "2        0.304  0.324324     0.8  0.636357       0.666667        1.0   \n",
       "3        0.698  0.283784     0.1  0.000000       0.333333        0.0   \n",
       "4        1.000  0.337838     0.2  0.500246       0.000000        1.0   \n",
       "\n",
       "   IsActiveMember  EstimatedSalary  Exited  Gender_Int  Geography_Germany  \\\n",
       "0             1.0         0.506735     1.0         1.0                0.0   \n",
       "1             1.0         0.562709     0.0         1.0                0.0   \n",
       "2             0.0         0.569654     1.0         1.0                0.0   \n",
       "3             0.0         0.469120     0.0         1.0                0.0   \n",
       "4             1.0         0.395400     0.0         1.0                0.0   \n",
       "\n",
       "   Geography_Spain  Balance_Int       PC1  \n",
       "0              0.0          0.0 -0.244017  \n",
       "1              1.0          1.0 -0.036741  \n",
       "2              0.0          1.0  0.868267  \n",
       "3              0.0          0.0  0.388012  \n",
       "4              1.0          1.0 -0.021615  "
      ]
     },
     "execution_count": 4,
     "metadata": {},
     "output_type": "execute_result"
    }
   ],
   "source": [
    "churn_norm_LDA = pd.read_csv(\"Churn_Norm_LDA.csv\")\n",
    "churn_norm_LDA.head()"
   ]
  },
  {
   "cell_type": "code",
   "execution_count": 5,
   "metadata": {},
   "outputs": [],
   "source": [
    "# Variables\n",
    "X_norm_LDA = churn_norm_LDA.drop(['Exited'],axis=1)\n",
    "# Target\n",
    "y_norm_LDA = pd.DataFrame(churn_norm_LDA['Exited'])"
   ]
  },
  {
   "cell_type": "markdown",
   "metadata": {},
   "source": [
    "## 2_Features_Best_Models"
   ]
  },
  {
   "cell_type": "markdown",
   "metadata": {},
   "source": [
    "From the previous **GridSearch Analysis**, we know that the best models have these **parameters**:"
   ]
  },
  {
   "cell_type": "markdown",
   "metadata": {},
   "source": [
    "### 2.1_Support_Vector_Machine(SVC)"
   ]
  },
  {
   "cell_type": "code",
   "execution_count": 6,
   "metadata": {},
   "outputs": [],
   "source": [
    "params_SVC = {'C': 10,  \n",
    "              'gamma': 1}"
   ]
  },
  {
   "cell_type": "markdown",
   "metadata": {},
   "source": [
    "where:\n",
    "    \n",
    " - **C**: Regularization parameter. The strength of the regularization is inversely proportional to C. Must be strictly positive.\n",
    "    \n",
    " - **gamma**: Kernel coefficient for ‘rbf’, ‘poly’ and ‘sigmoid’."
   ]
  },
  {
   "cell_type": "markdown",
   "metadata": {},
   "source": [
    "### 2.2_Neural_Network(MLPC)"
   ]
  },
  {
   "cell_type": "code",
   "execution_count": 7,
   "metadata": {},
   "outputs": [],
   "source": [
    "params_MLPC = {'activation': 'tanh', \n",
    "               'alpha': 0.001, \n",
    "               'hidden_layer_sizes': 4, \n",
    "               'max_iter': 1500, \n",
    "               'random_state': 42, \n",
    "               'solver': 'adam'}"
   ]
  },
  {
   "cell_type": "markdown",
   "metadata": {},
   "source": [
    "where: \n",
    "    \n",
    " - **solver**: The solver for weight optimization.\n",
    "    - **adam** refers to a stochastic gradient-based optimizer.\n",
    "    \n",
    "    \n",
    " - **activation**: Activation function for the hidden layer.\n",
    "    - **tanh**, the hyperbolic tan function, returns f(x) = tanh(x).\n",
    "    \n",
    "\n",
    " - **max_iter**: Maximum number of iterations. The solver iterates until convergence or this number of iterations. For stochastic solvers (like adam), this determines the number of epochs (how many times each data point will be used), not the number of gradient steps.\n",
    "               \n",
    " - **alpha**: L2 penalty (regularization term) parameter.\n",
    "\n",
    " - **hidden_layer_sizes**: The ith element represents the number of neurons in the ith hidden layer."
   ]
  },
  {
   "cell_type": "markdown",
   "metadata": {},
   "source": [
    "## 3_Functions"
   ]
  },
  {
   "cell_type": "markdown",
   "metadata": {},
   "source": [
    "### 3.1_Train_Test_Split"
   ]
  },
  {
   "cell_type": "code",
   "execution_count": 8,
   "metadata": {},
   "outputs": [],
   "source": [
    "def train_test(X, y, test_size, stratify):    \n",
    "    \n",
    "    '''\n",
    "    Function that returns train and test data\n",
    "    '''\n",
    "    \n",
    "    # Train/Test (90/10)\n",
    "    X_train, X_test, y_train, y_test = train_test_split(X, y, test_size=test_size, stratify=stratify)\n",
    "    \n",
    "    return X_train, X_test, y_train, y_test"
   ]
  },
  {
   "cell_type": "markdown",
   "metadata": {},
   "source": [
    "### 3.2_Imbalanced_Data"
   ]
  },
  {
   "cell_type": "markdown",
   "metadata": {},
   "source": [
    "Thanks to the previous analysis, we know that **Balanced Data** give best results."
   ]
  },
  {
   "cell_type": "code",
   "execution_count": 34,
   "metadata": {},
   "outputs": [],
   "source": [
    "def resampling_df (df, target, scaler):\n",
    "    \n",
    "    \"\"\"\n",
    "    Function that returns:\n",
    "    - Resampled dataset\n",
    "    - TSNE\n",
    "    \"\"\"\n",
    "    \n",
    "    X = df.drop(target, axis = 1)\n",
    "    y = df[target]\n",
    "    \n",
    "    # Train/Test split (90/10)\n",
    "    X_train, X_test, y_train, y_test = train_test_split(X, y, test_size = 0.1, random_state=0, stratify=y)\n",
    "    # Scaler\n",
    "    X_res, y_res = scaler.fit_sample(X_train, y_train)\n",
    "    \n",
    "    # Count new values\n",
    "    count = Counter(y_res)\n",
    "    print(f'Original dataset shape: {Counter(y_train)}')\n",
    "    print(f'Resampled dataset shape: {Counter(y_res)}')\n",
    "          \n",
    "    # TSNE\n",
    "    X_embedded = TSNE(n_components=2).fit_transform(X_res)\n",
    "\n",
    "    # Viz distribution\n",
    "    sns.scatterplot(x=X_embedded[:, 0], y=X_embedded[:, 1], hue=y_res, palette='viridis')\n",
    "    plt.legend(loc='best')\n",
    "    plt.show()\n",
    "    \n",
    "    df_red = pd.DataFrame(X_res)\n",
    "    df_red[target] = y_res\n",
    "    \n",
    "    return df_red"
   ]
  },
  {
   "cell_type": "markdown",
   "metadata": {},
   "source": [
    "### 3.3_Grid_Search"
   ]
  },
  {
   "cell_type": "markdown",
   "metadata": {},
   "source": [
    "**XGBoost** is short for **Extreme Gradient Boosting** and is an efficient implementation of the stochastic gradient boosting machine learning algorithm.\n",
    "\n",
    "It is an ensemble of decision trees algorithm where **new trees fix errors of those trees that are already part of the model**. Trees are added until no further improvements can be made to the model."
   ]
  },
  {
   "cell_type": "markdown",
   "metadata": {},
   "source": [
    "Using **GridSearch** we can find the best parameters for a **XGBclassifier**."
   ]
  },
  {
   "cell_type": "markdown",
   "metadata": {},
   "source": [
    "#### Parameters"
   ]
  },
  {
   "cell_type": "markdown",
   "metadata": {},
   "source": [
    "- **scale_pos_weight**: Control the balance of positive and negative weights, useful for unbalanced classes\n",
    "\n",
    "- **booster**: Which booster to use. Can be gbtree, gblinear or dart; gbtree and dart use tree based models while gblinear uses linear functions.\n",
    "\n",
    "- **gamma**: Minimum loss reduction required to make a further partition on a leaf node of the tree. The larger gamma is, the more conservative the algorithm will be.\n",
    "\n",
    "- **objective**: it is the learning objective for the algorithm. binary: hinge produces classification results, either 0 or 1."
   ]
  },
  {
   "cell_type": "markdown",
   "metadata": {},
   "source": [
    "**Note**\n",
    "\n",
    "This meta algorithm contains a **hyperparameter** designed to tune the behavior of the algorithm for **imbalanced classification problems** (**scale_pos_weight**)."
   ]
  },
  {
   "cell_type": "code",
   "execution_count": 10,
   "metadata": {},
   "outputs": [],
   "source": [
    "# Parameter XGBClassifier\n",
    "parameters = {'booster': ['gbtree','dart'],\n",
    "              'gamma': np.linspace(0,1,5),\n",
    "              'objective': ['binary:hinge']}"
   ]
  },
  {
   "cell_type": "code",
   "execution_count": 11,
   "metadata": {},
   "outputs": [],
   "source": [
    "def grid_search(parameters, model, X_train, y_train, name):\n",
    "    \n",
    "    '''\n",
    "    Function that find the best parameters by using GridSearch for XGB model\n",
    "    '''\n",
    "\n",
    "    \n",
    "    # Grid search\n",
    "    # n_jobs: Number of jobs to run in parallel.\n",
    "    model_grid = GridSearchCV(model, parameters, n_jobs=-1)    \n",
    "    model_grid.fit(X_train, y_train.values.ravel())\n",
    "    \n",
    "    name = name \n",
    "    best_score = model_grid.best_score_\n",
    "    best_parameters = model_grid.best_params_\n",
    "    best_estimator = model_grid.best_estimator_\n",
    "    \n",
    "    print(f\"----------------------------------{name}-------------------------------------\")\n",
    "    print(f\"Best score: {round(best_score*100,3)}%\")\n",
    "    print(\"Best Parameters:\")\n",
    "    print(best_parameters) \n",
    "    \n",
    "    return model_grid.best_params_"
   ]
  },
  {
   "cell_type": "markdown",
   "metadata": {},
   "source": [
    "### 3.4_Stacking"
   ]
  },
  {
   "cell_type": "markdown",
   "metadata": {},
   "source": [
    "The idea of **stacking** is to learn several different **weak learners** and **combine** them by training a **meta-model** to output predictions based on the multiple predictions returned by these weak models.\n",
    "\n",
    "The choice of weak learners should be coherent with the way we aggregate these models. In this case,  we have two models with **low variance** but **high bias**.\n",
    "\n",
    "We decide to use:\n",
    "\n",
    "- **stacking**, a meta-algorithm that often considers **heterogeneous weak learners**, learns them in parallel and combines them by training a meta-model to output a prediction based on the different weak models predictions."
   ]
  },
  {
   "cell_type": "code",
   "execution_count": 48,
   "metadata": {},
   "outputs": [],
   "source": [
    "def stacking_combine(names0, models0, model1):\n",
    "    \n",
    "    '''\n",
    "    Function that creates a meta-model from L-learners models\n",
    "    '''\n",
    "\n",
    "    # Base models\n",
    "    level0 = [(names0[i], models0[i]) for i in range(0, len(models0))]\n",
    "    \n",
    "    # Meta learner model\n",
    "    level1 = model1\n",
    "    \n",
    "    # Cross Validation\n",
    "    cv = StratifiedKFold()\n",
    "    \n",
    "    # Stacking Ensemble\n",
    "    model = StackingClassifier(estimators=level0, final_estimator=level1, cv=cv)\n",
    "    \n",
    "    return model"
   ]
  },
  {
   "cell_type": "markdown",
   "metadata": {},
   "source": [
    "Two good reasons to use XGBoost are:\n",
    "\n",
    "- **Execution Speed**\n",
    "- **Model Performance**"
   ]
  },
  {
   "cell_type": "markdown",
   "metadata": {},
   "source": [
    "### 3.5_Evaluation_Test_Function"
   ]
  },
  {
   "cell_type": "markdown",
   "metadata": {},
   "source": [
    "#### Metrics for Evaluation"
   ]
  },
  {
   "cell_type": "markdown",
   "metadata": {},
   "source": [
    "- **Accuracy** tells you what percentage of the predictions are correct.\n",
    "- **Precision** tells us the following: from the positive predictions I have made, what percentage are positive.\n",
    "- **Recall** (opposed to precision), is useful when the cost of a false negative is high. It tells us: of all the positive predictions, what percentage confirms the predicition.\n",
    "- **F1-score** seeks a balance between precision and recall."
   ]
  },
  {
   "cell_type": "code",
   "execution_count": 13,
   "metadata": {},
   "outputs": [],
   "source": [
    "def model_evaluation(X_train, X_test, y_train, y_test, model):\n",
    "    \n",
    "    '''\n",
    "    Function that returns the accuracy of the model\n",
    "    '''\n",
    "    \n",
    "    # Fit/Predict\n",
    "    model.fit(X_train, y_train)\n",
    "    y_pred = model.predict(X_test)\n",
    "\n",
    "    # Train Accuracy\n",
    "    train_accuracy = round(model.score(X_train, y_train) * 100, 2)  \n",
    "    # Test Accuracy\n",
    "    test_accuracy = round(model.score(X_test, y_test) * 100, 2)\n",
    "        \n",
    "    # Classification Report\n",
    "    cr = classification_report(y_test, y_pred)\n",
    "\n",
    "    # Parameters\n",
    "    scoring = {'accuracy': accuracy_score(y_test,y_pred),\n",
    "               'precision': precision_score(y_test,y_pred),\n",
    "               'recall': recall_score(y_test,y_pred),\n",
    "               'f1': f1_score(y_test,y_pred)}\n",
    "    \n",
    "    # Confusion matrix\n",
    "    cm = confusion_matrix(y_test, y_pred)\n",
    "    \n",
    "    # Validation Score\n",
    "    # scoring: recall (our target are customers that want to leave the bank.)\n",
    "    scores = cross_val_score(model, X_train, y_train, cv=StratifiedKFold(), scoring = 'recall')\n",
    "    \n",
    "    return train_accuracy, test_accuracy, cr, cm, scores"
   ]
  },
  {
   "cell_type": "markdown",
   "metadata": {},
   "source": [
    "### 3.6_Confusion_Matrix"
   ]
  },
  {
   "cell_type": "code",
   "execution_count": 14,
   "metadata": {},
   "outputs": [],
   "source": [
    "def confusion_matrix_results(model):\n",
    "    \n",
    "    '''\n",
    "    Function that returns:\n",
    "    - Viz of the confusion matrix\n",
    "    - Results of the confusion matrix\n",
    "    '''\n",
    "        \n",
    "    print(f'Confusion Matrix')\n",
    "    cm = model[3]\n",
    "    print(f'{cm}')\n",
    "\n",
    "    print(45*'-')\n",
    "    \n",
    "    # Viz\n",
    "    plt.clf()\n",
    "    plt.figure(figsize=(8,6))\n",
    "    res = sns.heatmap(cm, annot=True, vmin=0.0, vmax=1000, fmt='.1f', cmap='viridis_r', alpha = 0.5)\n",
    "\n",
    "    plt.xticks([0.5,1.5], ['Churn', 'Not Churn'], va='center')\n",
    "    plt.yticks([0.5,1.5], ['Not Churn', 'Churn'], va='center')\n",
    "    plt.xlabel('PREDICT VALUES', fontsize=10)\n",
    "    plt.ylabel('TEST VALUES', fontsize=10)\n",
    "    plt.title('Confusion Matrix', fontsize=15)\n",
    "    plt.show()\n",
    "    \n",
    "    print(45*'-')\n",
    "\n",
    "    # Results\n",
    "    print(f'T0 (True Not Churn): {cm[0][0]} ({round(cm[0][0]*100/sum(cm[0]),2)}%)')\n",
    "    print(f'F0 (False Not Churn): {cm[1][0]} ({round(cm[1][0]*100/sum(cm[1]),2)}%)')\n",
    "    \n",
    "    print(f'T1 (True Churn): {cm[1][1]} ({round(cm[1][1]*100/sum(cm[1]),2)}%)')\n",
    "    print(f'F1 (False Churn): {cm[0][1]} ({round(cm[0][1]*100/sum(cm[0]),2)}%)')"
   ]
  },
  {
   "cell_type": "markdown",
   "metadata": {},
   "source": [
    "### 4_Evaluation"
   ]
  },
  {
   "cell_type": "markdown",
   "metadata": {},
   "source": [
    "#### Train_Test (90/10)"
   ]
  },
  {
   "cell_type": "code",
   "execution_count": 15,
   "metadata": {},
   "outputs": [],
   "source": [
    "# X_train, X_test, y_train, y_test = train_test(X=X_norm_LDA, y=y_norm_LDA, test_size=0.1, stratify=y_norm_LDA)"
   ]
  },
  {
   "cell_type": "markdown",
   "metadata": {},
   "source": [
    "#### Unbalanced Data"
   ]
  },
  {
   "cell_type": "markdown",
   "metadata": {},
   "source": [
    "We use **SMOTEtomek** to balance our data (a combination of SMOTE and Tomek Links)."
   ]
  },
  {
   "cell_type": "code",
   "execution_count": 35,
   "metadata": {},
   "outputs": [
    {
     "name": "stdout",
     "output_type": "stream",
     "text": [
      "Original dataset shape: Counter({0.0: 7167, 1.0: 1833})\n",
      "Resampled dataset shape: Counter({0.0: 7037, 1.0: 7037})\n"
     ]
    },
    {
     "data": {
      "image/png": "[encoded data removed]",
      "text/plain": [
       "<Figure size 432x288 with 1 Axes>"
      ]
     },
     "metadata": {
      "needs_background": "light"
     },
     "output_type": "display_data"
    }
   ],
   "source": [
    "lda_resampled = resampling_df (churn_norm_LDA, 'Exited',SMOTETomek())"
   ]
  },
  {
   "cell_type": "code",
   "execution_count": 36,
   "metadata": {},
   "outputs": [
    {
     "data": {
      "text/html": [
       "<div>\n",
       "<style scoped>\n",
       "    .dataframe tbody tr th:only-of-type {\n",
       "        vertical-align: middle;\n",
       "    }\n",
       "\n",
       "    .dataframe tbody tr th {\n",
       "        vertical-align: top;\n",
       "    }\n",
       "\n",
       "    .dataframe thead th {\n",
       "        text-align: right;\n",
       "    }\n",
       "</style>\n",
       "<table border=\"1\" class=\"dataframe\">\n",
       "  <thead>\n",
       "    <tr style=\"text-align: right;\">\n",
       "      <th></th>\n",
       "      <th>CreditScore</th>\n",
       "      <th>Age</th>\n",
       "      <th>Tenure</th>\n",
       "      <th>Balance</th>\n",
       "      <th>NumOfProducts</th>\n",
       "      <th>HasCrCard</th>\n",
       "      <th>IsActiveMember</th>\n",
       "      <th>EstimatedSalary</th>\n",
       "      <th>Gender_Int</th>\n",
       "      <th>Geography_Germany</th>\n",
       "      <th>Geography_Spain</th>\n",
       "      <th>Balance_Int</th>\n",
       "      <th>PC1</th>\n",
       "      <th>Exited</th>\n",
       "    </tr>\n",
       "  </thead>\n",
       "  <tbody>\n",
       "    <tr>\n",
       "      <td>0</td>\n",
       "      <td>0.620</td>\n",
       "      <td>0.067568</td>\n",
       "      <td>0.6</td>\n",
       "      <td>0.661904</td>\n",
       "      <td>0.333333</td>\n",
       "      <td>0.0</td>\n",
       "      <td>0.0</td>\n",
       "      <td>0.452459</td>\n",
       "      <td>1.0</td>\n",
       "      <td>1.0</td>\n",
       "      <td>0.0</td>\n",
       "      <td>1.0</td>\n",
       "      <td>0.344164</td>\n",
       "      <td>0.0</td>\n",
       "    </tr>\n",
       "    <tr>\n",
       "      <td>1</td>\n",
       "      <td>0.554</td>\n",
       "      <td>0.256757</td>\n",
       "      <td>0.7</td>\n",
       "      <td>0.587336</td>\n",
       "      <td>0.000000</td>\n",
       "      <td>1.0</td>\n",
       "      <td>1.0</td>\n",
       "      <td>0.665165</td>\n",
       "      <td>1.0</td>\n",
       "      <td>1.0</td>\n",
       "      <td>0.0</td>\n",
       "      <td>1.0</td>\n",
       "      <td>0.508549</td>\n",
       "      <td>0.0</td>\n",
       "    </tr>\n",
       "    <tr>\n",
       "      <td>2</td>\n",
       "      <td>0.522</td>\n",
       "      <td>0.472973</td>\n",
       "      <td>0.7</td>\n",
       "      <td>0.000000</td>\n",
       "      <td>0.333333</td>\n",
       "      <td>0.0</td>\n",
       "      <td>1.0</td>\n",
       "      <td>0.782494</td>\n",
       "      <td>1.0</td>\n",
       "      <td>0.0</td>\n",
       "      <td>0.0</td>\n",
       "      <td>0.0</td>\n",
       "      <td>0.494905</td>\n",
       "      <td>1.0</td>\n",
       "    </tr>\n",
       "    <tr>\n",
       "      <td>3</td>\n",
       "      <td>0.672</td>\n",
       "      <td>0.391892</td>\n",
       "      <td>0.5</td>\n",
       "      <td>0.681296</td>\n",
       "      <td>0.000000</td>\n",
       "      <td>1.0</td>\n",
       "      <td>0.0</td>\n",
       "      <td>0.865924</td>\n",
       "      <td>1.0</td>\n",
       "      <td>1.0</td>\n",
       "      <td>0.0</td>\n",
       "      <td>1.0</td>\n",
       "      <td>2.311285</td>\n",
       "      <td>1.0</td>\n",
       "    </tr>\n",
       "    <tr>\n",
       "      <td>4</td>\n",
       "      <td>1.000</td>\n",
       "      <td>0.175676</td>\n",
       "      <td>0.6</td>\n",
       "      <td>0.526097</td>\n",
       "      <td>0.333333</td>\n",
       "      <td>1.0</td>\n",
       "      <td>1.0</td>\n",
       "      <td>0.893765</td>\n",
       "      <td>0.0</td>\n",
       "      <td>0.0</td>\n",
       "      <td>0.0</td>\n",
       "      <td>1.0</td>\n",
       "      <td>-1.591473</td>\n",
       "      <td>0.0</td>\n",
       "    </tr>\n",
       "  </tbody>\n",
       "</table>\n",
       "</div>"
      ],
      "text/plain": [
       "   CreditScore       Age  Tenure   Balance  NumOfProducts  HasCrCard  \\\n",
       "0        0.620  0.067568     0.6  0.661904       0.333333        0.0   \n",
       "1        0.554  0.256757     0.7  0.587336       0.000000        1.0   \n",
       "2        0.522  0.472973     0.7  0.000000       0.333333        0.0   \n",
       "3        0.672  0.391892     0.5  0.681296       0.000000        1.0   \n",
       "4        1.000  0.175676     0.6  0.526097       0.333333        1.0   \n",
       "\n",
       "   IsActiveMember  EstimatedSalary  Gender_Int  Geography_Germany  \\\n",
       "0             0.0         0.452459         1.0                1.0   \n",
       "1             1.0         0.665165         1.0                1.0   \n",
       "2             1.0         0.782494         1.0                0.0   \n",
       "3             0.0         0.865924         1.0                1.0   \n",
       "4             1.0         0.893765         0.0                0.0   \n",
       "\n",
       "   Geography_Spain  Balance_Int       PC1  Exited  \n",
       "0              0.0          1.0  0.344164     0.0  \n",
       "1              0.0          1.0  0.508549     0.0  \n",
       "2              0.0          0.0  0.494905     1.0  \n",
       "3              0.0          1.0  2.311285     1.0  \n",
       "4              0.0          1.0 -1.591473     0.0  "
      ]
     },
     "execution_count": 36,
     "metadata": {},
     "output_type": "execute_result"
    }
   ],
   "source": [
    "lda_resampled.head()"
   ]
  },
  {
   "cell_type": "code",
   "execution_count": 37,
   "metadata": {},
   "outputs": [
    {
     "name": "stdout",
     "output_type": "stream",
     "text": [
      "Original dataset rows: 10000\n",
      "Resampled dataset rows: 14074\n"
     ]
    }
   ],
   "source": [
    "# # Dimensions\n",
    "print(f'Original dataset rows: {len(churn_norm_LDA)}')\n",
    "print(f'Resampled dataset rows: {len(lda_resampled)}')"
   ]
  },
  {
   "cell_type": "code",
   "execution_count": 38,
   "metadata": {},
   "outputs": [],
   "source": [
    "# Variables\n",
    "X_lda_resampled = lda_resampled.drop(['Exited'],axis=1)\n",
    "# Target\n",
    "y_lda_resampled = pd.DataFrame(lda_resampled['Exited'])"
   ]
  },
  {
   "cell_type": "markdown",
   "metadata": {},
   "source": [
    "#### Train_Test (90/10)"
   ]
  },
  {
   "cell_type": "code",
   "execution_count": 39,
   "metadata": {},
   "outputs": [],
   "source": [
    "X_tr_lda_resampled, X_te_lda_resampled, y_tr_lda_resampled, y_te_lda_resampled = train_test(X=X_lda_resampled, y=y_lda_resampled, test_size=0.1, stratify=y_lda_resampled)"
   ]
  },
  {
   "cell_type": "markdown",
   "metadata": {},
   "source": [
    "### 5_XGBoost"
   ]
  },
  {
   "cell_type": "code",
   "execution_count": 40,
   "metadata": {},
   "outputs": [],
   "source": [
    "# Parameter XGBClassifier\n",
    "parameters = {'booster': ['gbtree','dart'],\n",
    "              'gamma': np.linspace(0,1,5),\n",
    "              'objective': ['binary:hinge']}"
   ]
  },
  {
   "cell_type": "code",
   "execution_count": 41,
   "metadata": {},
   "outputs": [
    {
     "name": "stdout",
     "output_type": "stream",
     "text": [
      "----------------------------------XGBoost-------------------------------------\n",
      "Best score: 89.839%\n",
      "Best Parameters:\n",
      "{'booster': 'gbtree', 'gamma': 0.0, 'objective': 'binary:hinge'}\n"
     ]
    }
   ],
   "source": [
    "gs_XGB = grid_search(parameters, XGBClassifier(**parameters), X_tr_lda_resampled, y_tr_lda_resampled, 'XGBoost')"
   ]
  },
  {
   "cell_type": "markdown",
   "metadata": {},
   "source": [
    "#### Model"
   ]
  },
  {
   "cell_type": "code",
   "execution_count": 42,
   "metadata": {},
   "outputs": [],
   "source": [
    "xgb = model_evaluation(X_tr_lda_resampled, X_te_lda_resampled, \n",
    "                       y_tr_lda_resampled.values.ravel(), y_te_lda_resampled.values.ravel(), \n",
    "                       model=XGBClassifier(**gs_XGB))"
   ]
  },
  {
   "cell_type": "markdown",
   "metadata": {},
   "source": [
    "#### Classification Report"
   ]
  },
  {
   "cell_type": "code",
   "execution_count": 43,
   "metadata": {},
   "outputs": [
    {
     "name": "stdout",
     "output_type": "stream",
     "text": [
      "Classification Report\n",
      "              precision    recall  f1-score   support\n",
      "\n",
      "         0.0       0.91      0.91      0.91       704\n",
      "         1.0       0.91      0.91      0.91       704\n",
      "\n",
      "    accuracy                           0.91      1408\n",
      "   macro avg       0.91      0.91      0.91      1408\n",
      "weighted avg       0.91      0.91      0.91      1408\n",
      "\n"
     ]
    }
   ],
   "source": [
    "print(f'Classification Report')\n",
    "print(f'{xgb[2]}')"
   ]
  },
  {
   "cell_type": "markdown",
   "metadata": {},
   "source": [
    "#### Confusion Matrix"
   ]
  },
  {
   "cell_type": "code",
   "execution_count": 44,
   "metadata": {},
   "outputs": [
    {
     "name": "stdout",
     "output_type": "stream",
     "text": [
      "Confusion Matrix\n",
      "[[638  66]\n",
      " [ 64 640]]\n",
      "---------------------------------------------\n"
     ]
    },
    {
     "data": {
      "text/plain": [
       "<Figure size 432x288 with 0 Axes>"
      ]
     },
     "metadata": {},
     "output_type": "display_data"
    },
    {
     "data": {
      "image/png": "[encoded data removed]",
      "text/plain": [
       "<Figure size 576x432 with 2 Axes>"
      ]
     },
     "metadata": {
      "needs_background": "light"
     },
     "output_type": "display_data"
    },
    {
     "name": "stdout",
     "output_type": "stream",
     "text": [
      "---------------------------------------------\n",
      "T0 (True Not Churn): 638 (90.62%)\n",
      "F0 (False Not Churn): 64 (9.09%)\n",
      "T1 (True Churn): 640 (90.91%)\n",
      "F1 (False Churn): 66 (9.38%)\n"
     ]
    }
   ],
   "source": [
    "recap_xgb = confusion_matrix_results(xgb)"
   ]
  },
  {
   "cell_type": "markdown",
   "metadata": {},
   "source": [
    "#### Conclusions"
   ]
  },
  {
   "cell_type": "markdown",
   "metadata": {},
   "source": [
    "**XGBoost** gives **better performance** than SVC and MLPC and using it in stacking will help improve ensemble model performance even more."
   ]
  },
  {
   "cell_type": "markdown",
   "metadata": {},
   "source": [
    "### 6_Stacking"
   ]
  },
  {
   "cell_type": "markdown",
   "metadata": {},
   "source": [
    "We need to define two things in order to build our **stacking model**: \n",
    "\n",
    " - the **L-learners** we want to fit;\n",
    " - the **meta-model** that combines them."
   ]
  },
  {
   "cell_type": "markdown",
   "metadata": {},
   "source": [
    "#### L-learners"
   ]
  },
  {
   "cell_type": "markdown",
   "metadata": {},
   "source": [
    " - **Neural Network** (Multilayer Perceptron)\n",
    " - **C-Support Vector Classification**\n",
    " - **XGBoost**  (Extra Gradient boosting) "
   ]
  },
  {
   "cell_type": "code",
   "execution_count": 45,
   "metadata": {},
   "outputs": [],
   "source": [
    "# L-learners\n",
    "names_lv0 = ['svm','mplc','boost']\n",
    "models_lv0 = [SVC(**params_SVC), MLPClassifier(**params_MLPC), XGBClassifier(**gs_XGB)]"
   ]
  },
  {
   "cell_type": "markdown",
   "metadata": {},
   "source": [
    "#### Meta-models"
   ]
  },
  {
   "cell_type": "markdown",
   "metadata": {},
   "source": [
    "We create two ensemble models using two different meta-models:\n",
    "    \n",
    " - **Neural Network (Multilayer Perceptron)**\n",
    " - **C-Support Vector Classification**"
   ]
  },
  {
   "cell_type": "markdown",
   "metadata": {},
   "source": [
    "### 6.1_Meta-Model:MLPC"
   ]
  },
  {
   "cell_type": "markdown",
   "metadata": {},
   "source": [
    "- L-learners:  **SVC** + **MLPC** + **XGB**\n",
    "\n",
    "- meta-model: **MLPC**"
   ]
  },
  {
   "cell_type": "code",
   "execution_count": 46,
   "metadata": {},
   "outputs": [],
   "source": [
    "# Meta model MLPC\n",
    "MLPC_lv1 = MLPClassifier(**params_MLPC)"
   ]
  },
  {
   "cell_type": "code",
   "execution_count": 49,
   "metadata": {},
   "outputs": [],
   "source": [
    "stacking_MLPC = stacking_combine(names_lv0,models_lv0, MLPC_lv1)"
   ]
  },
  {
   "cell_type": "markdown",
   "metadata": {},
   "source": [
    "#### Model"
   ]
  },
  {
   "cell_type": "code",
   "execution_count": 50,
   "metadata": {},
   "outputs": [],
   "source": [
    "MLPC_stacking = model_evaluation(X_tr_lda_resampled, X_te_lda_resampled, \n",
    "                       y_tr_lda_resampled.values.ravel(), y_te_lda_resampled.values.ravel(), \n",
    "                       model=stacking_MLPC)"
   ]
  },
  {
   "cell_type": "markdown",
   "metadata": {},
   "source": [
    "#### Accuracy"
   ]
  },
  {
   "cell_type": "code",
   "execution_count": 51,
   "metadata": {},
   "outputs": [
    {
     "name": "stdout",
     "output_type": "stream",
     "text": [
      "TRAIN accuracy: 95.35 %\n",
      "TEST accuracy_norm: 90.7 %\n"
     ]
    }
   ],
   "source": [
    "print(f'TRAIN accuracy: {MLPC_stacking[0]} %')\n",
    "print(f'TEST accuracy_norm: {MLPC_stacking[1]} %')"
   ]
  },
  {
   "cell_type": "markdown",
   "metadata": {},
   "source": [
    "#### Classification Report"
   ]
  },
  {
   "cell_type": "code",
   "execution_count": 52,
   "metadata": {},
   "outputs": [
    {
     "name": "stdout",
     "output_type": "stream",
     "text": [
      "Classification Report\n",
      "              precision    recall  f1-score   support\n",
      "\n",
      "         0.0       0.92      0.89      0.91       704\n",
      "         1.0       0.89      0.92      0.91       704\n",
      "\n",
      "    accuracy                           0.91      1408\n",
      "   macro avg       0.91      0.91      0.91      1408\n",
      "weighted avg       0.91      0.91      0.91      1408\n",
      "\n"
     ]
    }
   ],
   "source": [
    "print(f'Classification Report')\n",
    "print(f'{MLPC_stacking[2]}')"
   ]
  },
  {
   "cell_type": "markdown",
   "metadata": {},
   "source": [
    "#### Correlation Matrix"
   ]
  },
  {
   "cell_type": "code",
   "execution_count": 53,
   "metadata": {},
   "outputs": [
    {
     "name": "stdout",
     "output_type": "stream",
     "text": [
      "Confusion Matrix\n",
      "[[627  77]\n",
      " [ 54 650]]\n",
      "---------------------------------------------\n"
     ]
    },
    {
     "data": {
      "text/plain": [
       "<Figure size 432x288 with 0 Axes>"
      ]
     },
     "metadata": {},
     "output_type": "display_data"
    },
    {
     "data": {
      "image/png": "[encoded data removed]",
      "text/plain": [
       "<Figure size 576x432 with 2 Axes>"
      ]
     },
     "metadata": {
      "needs_background": "light"
     },
     "output_type": "display_data"
    },
    {
     "name": "stdout",
     "output_type": "stream",
     "text": [
      "---------------------------------------------\n",
      "T0 (True Not Churn): 627 (89.06%)\n",
      "F0 (False Not Churn): 54 (7.67%)\n",
      "T1 (True Churn): 650 (92.33%)\n",
      "F1 (False Churn): 77 (10.94%)\n"
     ]
    }
   ],
   "source": [
    "recap_cm = confusion_matrix_results(MLPC_stacking)"
   ]
  },
  {
   "cell_type": "markdown",
   "metadata": {},
   "source": [
    "### 6.2_Meta-Model:SVC"
   ]
  },
  {
   "cell_type": "markdown",
   "metadata": {},
   "source": [
    "- L-learners:  **SVC** + **MLPC** + **XGB**\n",
    "\n",
    "- meta-model: **SVC**"
   ]
  },
  {
   "cell_type": "code",
   "execution_count": 54,
   "metadata": {},
   "outputs": [],
   "source": [
    "# Meta model SVC\n",
    "SVC_lv1 = SVC(**params_SVC)"
   ]
  },
  {
   "cell_type": "code",
   "execution_count": 55,
   "metadata": {},
   "outputs": [],
   "source": [
    "stacking_SVC = stacking_combine(names_lv0,models_lv0, SVC_lv1)"
   ]
  },
  {
   "cell_type": "markdown",
   "metadata": {},
   "source": [
    "#### Model"
   ]
  },
  {
   "cell_type": "code",
   "execution_count": 56,
   "metadata": {},
   "outputs": [],
   "source": [
    "SVC_stacking = model_evaluation(X_tr_lda_resampled, X_te_lda_resampled, \n",
    "                       y_tr_lda_resampled.values.ravel(), y_te_lda_resampled.values.ravel(), \n",
    "                       model=stacking_SVC)"
   ]
  },
  {
   "cell_type": "markdown",
   "metadata": {},
   "source": [
    "#### Accuracy"
   ]
  },
  {
   "cell_type": "code",
   "execution_count": 57,
   "metadata": {},
   "outputs": [
    {
     "name": "stdout",
     "output_type": "stream",
     "text": [
      "TRAIN accuracy: 95.31 %\n",
      "TEST accuracy_norm: 91.19 %\n"
     ]
    }
   ],
   "source": [
    "print(f'TRAIN accuracy: {SVC_stacking[0]} %')\n",
    "print(f'TEST accuracy_norm: {SVC_stacking[1]} %')"
   ]
  },
  {
   "cell_type": "markdown",
   "metadata": {},
   "source": [
    "#### Classification Report"
   ]
  },
  {
   "cell_type": "code",
   "execution_count": 58,
   "metadata": {},
   "outputs": [
    {
     "name": "stdout",
     "output_type": "stream",
     "text": [
      "Classification Report\n",
      "              precision    recall  f1-score   support\n",
      "\n",
      "         0.0       0.92      0.91      0.91       704\n",
      "         1.0       0.91      0.92      0.91       704\n",
      "\n",
      "    accuracy                           0.91      1408\n",
      "   macro avg       0.91      0.91      0.91      1408\n",
      "weighted avg       0.91      0.91      0.91      1408\n",
      "\n"
     ]
    }
   ],
   "source": [
    "print(f'Classification Report')\n",
    "print(f'{SVC_stacking[2]}')"
   ]
  },
  {
   "cell_type": "markdown",
   "metadata": {},
   "source": [
    "#### Correlation Matrix"
   ]
  },
  {
   "cell_type": "code",
   "execution_count": 59,
   "metadata": {},
   "outputs": [
    {
     "name": "stdout",
     "output_type": "stream",
     "text": [
      "Confusion Matrix\n",
      "[[639  65]\n",
      " [ 59 645]]\n",
      "---------------------------------------------\n"
     ]
    },
    {
     "data": {
      "text/plain": [
       "<Figure size 432x288 with 0 Axes>"
      ]
     },
     "metadata": {},
     "output_type": "display_data"
    },
    {
     "data": {
      "image/png": "[encoded data removed]",
      "text/plain": [
       "<Figure size 576x432 with 2 Axes>"
      ]
     },
     "metadata": {
      "needs_background": "light"
     },
     "output_type": "display_data"
    },
    {
     "name": "stdout",
     "output_type": "stream",
     "text": [
      "---------------------------------------------\n",
      "T0 (True Not Churn): 639 (90.77%)\n",
      "F0 (False Not Churn): 59 (8.38%)\n",
      "T1 (True Churn): 645 (91.62%)\n",
      "F1 (False Churn): 65 (9.23%)\n"
     ]
    }
   ],
   "source": [
    "recap_cm = confusion_matrix_results(SVC_stacking)"
   ]
  },
  {
   "cell_type": "markdown",
   "metadata": {},
   "source": [
    "### 6.3_Conclusions"
   ]
  },
  {
   "cell_type": "markdown",
   "metadata": {},
   "source": [
    "Both these **ensemble models improve the performance** of previous models (MLPC-SVC), giving a **better prediction for customers who have left the bank** than those who have not.\n",
    "\n",
    "The **best model** analyzed so far is: **Stacking with Meta-Model SVC**."
   ]
  },
  {
   "cell_type": "markdown",
   "metadata": {},
   "source": [
    "### 7_Recap_Results"
   ]
  },
  {
   "cell_type": "markdown",
   "metadata": {},
   "source": [
    "We select the **best recall** and **f1-score** values for **exited clients** in the analyzed models and make a **visual comparison**."
   ]
  },
  {
   "cell_type": "markdown",
   "metadata": {},
   "source": [
    "**Models**\n",
    "\n",
    "- Logistic Regression (LR)\n",
    "- Random Forest (RF)\n",
    "- C-Support Vector Classification (SVC)\n",
    "- Neural Network (Multilayer Perceptron) (MLP)\n",
    "- XGBoost (XGB)\n",
    "- StackingSVC (StSVC)"
   ]
  },
  {
   "cell_type": "code",
   "execution_count": 21,
   "metadata": {},
   "outputs": [],
   "source": [
    "# Models\n",
    "X = ['LR','RF','SVC','MLP','XGB','StSVC']\n",
    "# Recall %\n",
    "Y_recall = [17,54,89,73,91,91]\n",
    "# F1-score %\n",
    "Y_f1score = [26,56,86,76,91,92]"
   ]
  },
  {
   "cell_type": "code",
   "execution_count": 28,
   "metadata": {},
   "outputs": [
    {
     "data": {
      "image/png": "[encoded data removed]",
      "text/plain": [
       "<Figure size 864x576 with 2 Axes>"
      ]
     },
     "metadata": {
      "needs_background": "light"
     },
     "output_type": "display_data"
    }
   ],
   "source": [
    "plt.figure(figsize=(12,8))\n",
    "\n",
    "\n",
    "\n",
    "plt.subplot(2,2,1)\n",
    "sns.barplot(x=X,y=Y_recall, palette='viridis_r')\n",
    "plt.xlabel('Model')\n",
    "plt.ylabel('Recall')\n",
    "plt.title('Recall Exited Clients')\n",
    "\n",
    "plt.subplot(2,2,2)\n",
    "sns.barplot(x=X,y=Y_f1score, palette='viridis_r')\n",
    "plt.xlabel('Model')\n",
    "plt.ylabel('f1-score')\n",
    "plt.title('f1-score Exited Clients');"
   ]
  },
  {
   "cell_type": "markdown",
   "metadata": {},
   "source": [
    "The **worst model** for the prediction of **Churn Clients** is the **Logistic Fgression** (LR); the **better** one is the **Stacking model** with Meta-Model SVC (with results similar to the XGBoost (XGB))."
   ]
  },
  {
   "cell_type": "code",
   "execution_count": null,
   "metadata": {},
   "outputs": [],
   "source": []
  }
 ],
 "metadata": {
  "kernelspec": {
   "display_name": "Python 3",
   "language": "python",
   "name": "python3"
  },
  "language_info": {
   "codemirror_mode": {
    "name": "ipython",
    "version": 3
   },
   "file_extension": ".py",
   "mimetype": "text/x-python",
   "name": "python",
   "nbconvert_exporter": "python",
   "pygments_lexer": "ipython3",
   "version": "3.7.4"
  }
 },
 "nbformat": 4,
 "nbformat_minor": 4
}
